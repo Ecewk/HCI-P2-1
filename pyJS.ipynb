{
 "cells": [
  {
   "cell_type": "code",
   "execution_count": 1,
   "metadata": {},
   "outputs": [
    {
     "data": {
      "application/vnd.jupyter.widget-view+json": {
       "model_id": "762d7272053244c8acaba6badbc015b3",
       "version_major": 2,
       "version_minor": 0
      },
      "text/plain": [
       "VBox(children=(Renderer(camera=PerspectiveCamera(fov=20.0, position=(3.0, 3.0, 3.0), projectionMatrix=(1.0, 0.…"
      ]
     },
     "metadata": {},
     "output_type": "display_data"
    },
    {
     "ename": "TraitError",
     "evalue": "The 'rotation' trait of a Mesh instance requires 4 elements, but a value of (0.0, 0.0, 0) <class 'tuple'> was specified.",
     "output_type": "error",
     "traceback": [
      "\u001b[1;31m---------------------------------------------------------------------------\u001b[0m",
      "\u001b[1;31mTraitError\u001b[0m                                Traceback (most recent call last)",
      "Cell \u001b[1;32mIn[1], line 39\u001b[0m\n\u001b[0;32m     37\u001b[0m \u001b[38;5;66;03m# Rotate the cube continuously (simple animation in a loop)\u001b[39;00m\n\u001b[0;32m     38\u001b[0m \u001b[38;5;28;01mfor\u001b[39;00m i \u001b[38;5;129;01min\u001b[39;00m \u001b[38;5;28mrange\u001b[39m(\u001b[38;5;241m100\u001b[39m):\n\u001b[1;32m---> 39\u001b[0m     \u001b[43mcube\u001b[49m\u001b[38;5;241;43m.\u001b[39;49m\u001b[43mrotation\u001b[49m \u001b[38;5;241m=\u001b[39m [i \u001b[38;5;241m*\u001b[39m \u001b[38;5;241m0.05\u001b[39m, i \u001b[38;5;241m*\u001b[39m \u001b[38;5;241m0.05\u001b[39m, \u001b[38;5;241m0\u001b[39m]\n\u001b[0;32m     40\u001b[0m     sleep(\u001b[38;5;241m0.1\u001b[39m)\n",
      "File \u001b[1;32mc:\\Users\\user\\miniconda3\\envs\\NEWSET\\lib\\site-packages\\traitlets\\traitlets.py:716\u001b[0m, in \u001b[0;36mTraitType.__set__\u001b[1;34m(self, obj, value)\u001b[0m\n\u001b[0;32m    714\u001b[0m \u001b[38;5;28;01mif\u001b[39;00m \u001b[38;5;28mself\u001b[39m\u001b[38;5;241m.\u001b[39mread_only:\n\u001b[0;32m    715\u001b[0m     \u001b[38;5;28;01mraise\u001b[39;00m TraitError(\u001b[38;5;124m'\u001b[39m\u001b[38;5;124mThe \u001b[39m\u001b[38;5;124m\"\u001b[39m\u001b[38;5;132;01m%s\u001b[39;00m\u001b[38;5;124m\"\u001b[39m\u001b[38;5;124m trait is read-only.\u001b[39m\u001b[38;5;124m'\u001b[39m \u001b[38;5;241m%\u001b[39m \u001b[38;5;28mself\u001b[39m\u001b[38;5;241m.\u001b[39mname)\n\u001b[1;32m--> 716\u001b[0m \u001b[38;5;28;43mself\u001b[39;49m\u001b[38;5;241;43m.\u001b[39;49m\u001b[43mset\u001b[49m\u001b[43m(\u001b[49m\u001b[43mobj\u001b[49m\u001b[43m,\u001b[49m\u001b[43m \u001b[49m\u001b[43mvalue\u001b[49m\u001b[43m)\u001b[49m\n",
      "File \u001b[1;32mc:\\Users\\user\\miniconda3\\envs\\NEWSET\\lib\\site-packages\\traitlets\\traitlets.py:690\u001b[0m, in \u001b[0;36mTraitType.set\u001b[1;34m(self, obj, value)\u001b[0m\n\u001b[0;32m    689\u001b[0m \u001b[38;5;28;01mdef\u001b[39;00m \u001b[38;5;21mset\u001b[39m(\u001b[38;5;28mself\u001b[39m, obj: HasTraits, value: S) \u001b[38;5;241m-\u001b[39m\u001b[38;5;241m>\u001b[39m \u001b[38;5;28;01mNone\u001b[39;00m:\n\u001b[1;32m--> 690\u001b[0m     new_value \u001b[38;5;241m=\u001b[39m \u001b[38;5;28;43mself\u001b[39;49m\u001b[38;5;241;43m.\u001b[39;49m\u001b[43m_validate\u001b[49m\u001b[43m(\u001b[49m\u001b[43mobj\u001b[49m\u001b[43m,\u001b[49m\u001b[43m \u001b[49m\u001b[43mvalue\u001b[49m\u001b[43m)\u001b[49m\n\u001b[0;32m    691\u001b[0m     \u001b[38;5;28;01massert\u001b[39;00m \u001b[38;5;28mself\u001b[39m\u001b[38;5;241m.\u001b[39mname \u001b[38;5;129;01mis\u001b[39;00m \u001b[38;5;129;01mnot\u001b[39;00m \u001b[38;5;28;01mNone\u001b[39;00m\n\u001b[0;32m    692\u001b[0m     \u001b[38;5;28;01mtry\u001b[39;00m:\n",
      "File \u001b[1;32mc:\\Users\\user\\miniconda3\\envs\\NEWSET\\lib\\site-packages\\traitlets\\traitlets.py:722\u001b[0m, in \u001b[0;36mTraitType._validate\u001b[1;34m(self, obj, value)\u001b[0m\n\u001b[0;32m    720\u001b[0m     \u001b[38;5;28;01mreturn\u001b[39;00m value\n\u001b[0;32m    721\u001b[0m \u001b[38;5;28;01mif\u001b[39;00m \u001b[38;5;28mhasattr\u001b[39m(\u001b[38;5;28mself\u001b[39m, \u001b[38;5;124m\"\u001b[39m\u001b[38;5;124mvalidate\u001b[39m\u001b[38;5;124m\"\u001b[39m):\n\u001b[1;32m--> 722\u001b[0m     value \u001b[38;5;241m=\u001b[39m \u001b[38;5;28;43mself\u001b[39;49m\u001b[38;5;241;43m.\u001b[39;49m\u001b[43mvalidate\u001b[49m\u001b[43m(\u001b[49m\u001b[43mobj\u001b[49m\u001b[43m,\u001b[49m\u001b[43m \u001b[49m\u001b[43mvalue\u001b[49m\u001b[43m)\u001b[49m\n\u001b[0;32m    723\u001b[0m \u001b[38;5;28;01mif\u001b[39;00m obj\u001b[38;5;241m.\u001b[39m_cross_validation_lock \u001b[38;5;129;01mis\u001b[39;00m \u001b[38;5;28;01mFalse\u001b[39;00m:\n\u001b[0;32m    724\u001b[0m     value \u001b[38;5;241m=\u001b[39m \u001b[38;5;28mself\u001b[39m\u001b[38;5;241m.\u001b[39m_cross_validate(obj, value)\n",
      "File \u001b[1;32mc:\\Users\\user\\miniconda3\\envs\\NEWSET\\lib\\site-packages\\traitlets\\traitlets.py:3482\u001b[0m, in \u001b[0;36mContainer.validate\u001b[1;34m(self, obj, value)\u001b[0m\n\u001b[0;32m   3479\u001b[0m \u001b[38;5;28;01mif\u001b[39;00m value \u001b[38;5;129;01mis\u001b[39;00m \u001b[38;5;28;01mNone\u001b[39;00m:\n\u001b[0;32m   3480\u001b[0m     \u001b[38;5;28;01mreturn\u001b[39;00m value\n\u001b[1;32m-> 3482\u001b[0m value \u001b[38;5;241m=\u001b[39m \u001b[38;5;28;43mself\u001b[39;49m\u001b[38;5;241;43m.\u001b[39;49m\u001b[43mvalidate_elements\u001b[49m\u001b[43m(\u001b[49m\u001b[43mobj\u001b[49m\u001b[43m,\u001b[49m\u001b[43m \u001b[49m\u001b[43mvalue\u001b[49m\u001b[43m)\u001b[49m\n\u001b[0;32m   3484\u001b[0m \u001b[38;5;28;01mreturn\u001b[39;00m t\u001b[38;5;241m.\u001b[39mcast(T, value)\n",
      "File \u001b[1;32mc:\\Users\\user\\miniconda3\\envs\\NEWSET\\lib\\site-packages\\traitlets\\traitlets.py:3816\u001b[0m, in \u001b[0;36mTuple.validate_elements\u001b[1;34m(self, obj, value)\u001b[0m\n\u001b[0;32m   3811\u001b[0m \u001b[38;5;28;01mif\u001b[39;00m \u001b[38;5;28mlen\u001b[39m(value) \u001b[38;5;241m!=\u001b[39m \u001b[38;5;28mlen\u001b[39m(\u001b[38;5;28mself\u001b[39m\u001b[38;5;241m.\u001b[39m_traits):\n\u001b[0;32m   3812\u001b[0m     e \u001b[38;5;241m=\u001b[39m (\n\u001b[0;32m   3813\u001b[0m         \u001b[38;5;124m\"\u001b[39m\u001b[38;5;124mThe \u001b[39m\u001b[38;5;124m'\u001b[39m\u001b[38;5;132;01m%s\u001b[39;00m\u001b[38;5;124m'\u001b[39m\u001b[38;5;124m trait of \u001b[39m\u001b[38;5;132;01m%s\u001b[39;00m\u001b[38;5;124m instance requires \u001b[39m\u001b[38;5;132;01m%i\u001b[39;00m\u001b[38;5;124m elements, but a value of \u001b[39m\u001b[38;5;132;01m%s\u001b[39;00m\u001b[38;5;124m was specified.\u001b[39m\u001b[38;5;124m\"\u001b[39m\n\u001b[0;32m   3814\u001b[0m         \u001b[38;5;241m%\u001b[39m (\u001b[38;5;28mself\u001b[39m\u001b[38;5;241m.\u001b[39mname, class_of(obj), \u001b[38;5;28mlen\u001b[39m(\u001b[38;5;28mself\u001b[39m\u001b[38;5;241m.\u001b[39m_traits), repr_type(value))\n\u001b[0;32m   3815\u001b[0m     )\n\u001b[1;32m-> 3816\u001b[0m     \u001b[38;5;28;01mraise\u001b[39;00m TraitError(e)\n\u001b[0;32m   3818\u001b[0m validated \u001b[38;5;241m=\u001b[39m []\n\u001b[0;32m   3819\u001b[0m \u001b[38;5;28;01mfor\u001b[39;00m trait, v \u001b[38;5;129;01min\u001b[39;00m \u001b[38;5;28mzip\u001b[39m(\u001b[38;5;28mself\u001b[39m\u001b[38;5;241m.\u001b[39m_traits, value):\n",
      "\u001b[1;31mTraitError\u001b[0m: The 'rotation' trait of a Mesh instance requires 4 elements, but a value of (0.0, 0.0, 0) <class 'tuple'> was specified."
     ]
    }
   ],
   "source": [
    "import pythreejs as three\n",
    "import numpy as np\n",
    "from ipywidgets import VBox\n",
    "from time import sleep\n",
    "from IPython.display import display\n",
    "\n",
    "\"\"\"\n",
    "this code generally works however only in jupyter notebook and it wont work solely in vs code.\n",
    "\"\"\"\n",
    "\n",
    "# Create the scene\n",
    "scene = three.Scene()\n",
    "\n",
    "# Create a camera (PerspectiveCamera for 3D viewing)\n",
    "camera = three.PerspectiveCamera(position=[3, 3, 3], fov=20)\n",
    "\n",
    "# Create a directional light to illuminate the scene\n",
    "light = three.DirectionalLight(position=[5, 5, 5], intensity=0.5)\n",
    "\n",
    "# Add light to the scene\n",
    "scene.add(light)\n",
    "\n",
    "# Create a geometry (box shape)\n",
    "geometry = three.BoxGeometry(width=1, height=1, depth=1)\n",
    "\n",
    "# Create a material (basic color material)\n",
    "material = three.MeshBasicMaterial(color='green')\n",
    "\n",
    "# Create the mesh (object in the scene)\n",
    "cube = three.Mesh(geometry=geometry, material=material)\n",
    "\n",
    "# Add the cube to the scene\n",
    "scene.add(cube)\n",
    "\n",
    "# Create the renderer (displays the 3D content)\n",
    "renderer = three.Renderer(camera=camera, scene=scene, controls=[three.OrbitControls(controlling=camera)], width=400, height=400)\n",
    "\n",
    "# Display the renderer\n",
    "display(VBox([renderer]))\n",
    "\n",
    "# Rotate the cube continuously (simple animation in a loop)\n",
    "for i in range(100):\n",
    "    cube.rotation = [i * 0.05, i * 0.05, 0]\n",
    "    sleep(0.1)\n"
   ]
  }
 ],
 "metadata": {
  "kernelspec": {
   "display_name": "Python 3",
   "language": "python",
   "name": "python3"
  },
  "language_info": {
   "codemirror_mode": {
    "name": "ipython",
    "version": 3
   },
   "file_extension": ".py",
   "mimetype": "text/x-python",
   "name": "python",
   "nbconvert_exporter": "python",
   "pygments_lexer": "ipython3",
   "version": "3.9.19"
  }
 },
 "nbformat": 4,
 "nbformat_minor": 2
}
